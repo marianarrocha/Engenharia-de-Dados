{
 "cells": [
  {
   "cell_type": "code",
   "execution_count": 1,
   "metadata": {},
   "outputs": [],
   "source": [
    "#pip install duckdb\n",
    "#pip install pyarrow"
   ]
  },
  {
   "cell_type": "code",
   "execution_count": 2,
   "metadata": {},
   "outputs": [],
   "source": [
    "#importar bibliotecas\n",
    "import duckdb as db\n",
    "import pyarrow as pa\n",
    "import pyarrow.parquet as pq"
   ]
  },
  {
   "cell_type": "code",
   "execution_count": 3,
   "metadata": {},
   "outputs": [],
   "source": [
    "#importar base de dados\n",
    "stock_data = pq.read_table(r\"C:\\Users\\Maria\\Desktop\\projetos\\all_stock_data.parquet\")"
   ]
  },
  {
   "cell_type": "code",
   "execution_count": 4,
   "metadata": {},
   "outputs": [
    {
     "name": "stdout",
     "output_type": "stream",
     "text": [
      "Date: date32[day]\n",
      "Ticker: string\n",
      "Open: double\n",
      "High: double\n",
      "Low: double\n",
      "Close: double\n",
      "Volume: double\n",
      "Dividends: double\n",
      "Stock Splits: double\n",
      "-- schema metadata --\n",
      "pandas: '{\"index_columns\": [{\"kind\": \"range\", \"name\": null, \"start\": 0, \"' + 1276\n"
     ]
    }
   ],
   "source": [
    "print(stock_data.schema)"
   ]
  },
  {
   "cell_type": "code",
   "execution_count": 5,
   "metadata": {},
   "outputs": [
    {
     "data": {
      "text/plain": [
       "<duckdb.duckdb.DuckDBPyConnection at 0x20faa6ae730>"
      ]
     },
     "execution_count": 5,
     "metadata": {},
     "output_type": "execute_result"
    }
   ],
   "source": [
    "#conectar base de dados com duckdb\n",
    "conn_stock = db.connect()\n",
    "conn_stock.register('stock_data', stock_data)"
   ]
  },
  {
   "cell_type": "code",
   "execution_count": 6,
   "metadata": {},
   "outputs": [
    {
     "data": {
      "text/plain": [
       "┌────────────┬─────────┬────────┬─────────────────────┬─────────────────────┬─────────────────────┬───────────┬───────────┬──────────────┐\n",
       "│    Date    │ Ticker  │  Open  │        High         │         Low         │        Close        │  Volume   │ Dividends │ Stock Splits │\n",
       "│    date    │ varchar │ double │       double        │       double        │       double        │  double   │  double   │    double    │\n",
       "├────────────┼─────────┼────────┼─────────────────────┼─────────────────────┼─────────────────────┼───────────┼───────────┼──────────────┤\n",
       "│ 1962-01-02 │ ED      │    0.0 │  0.2658275556233194 │ 0.26178762316703796 │ 0.26178762316703796 │   25600.0 │       0.0 │          0.0 │\n",
       "│ 1962-01-02 │ CVX     │    0.0 │ 0.04680890217423439 │ 0.04606926600933256 │ 0.04680890217423439 │  105840.0 │       0.0 │          0.0 │\n",
       "│ 1962-01-02 │ GD      │    0.0 │ 0.21003275954390174 │ 0.20306070787008793 │  0.2082897424697876 │ 2648000.0 │       0.0 │          0.0 │\n",
       "│ 1962-01-02 │ BP      │    0.0 │ 0.14143933090345925 │ 0.13952797651290894 │ 0.13952797651290894 │   77440.0 │       0.0 │          0.0 │\n",
       "│ 1962-01-02 │ MSI     │    0.0 │  0.7649229763450202 │  0.7452535214492476 │  0.7518101930618286 │   65671.0 │       0.0 │          0.0 │\n",
       "│ 1962-01-02 │ HON     │    0.0 │  1.5596422972915405 │   1.549127912225958 │  1.5561375617980957 │   40740.0 │       0.0 │          0.0 │\n",
       "│ 1962-01-02 │ FL      │    0.0 │  0.9722493028732154 │  0.9538055893643659 │  0.9590751528739929 │   49200.0 │       0.0 │          0.0 │\n",
       "│ 1962-01-02 │ GT      │    0.0 │  1.9469001299879525 │  1.9142705188708358 │  1.9360235929489136 │   32000.0 │       0.0 │          0.0 │\n",
       "│ 1962-01-02 │ JNJ     │    0.0 │  0.0677657350897789 │ 0.06741443839221611 │  0.0677657350897789 │       0.0 │       0.0 │          0.0 │\n",
       "│ 1962-01-02 │ MMM     │    0.0 │   0.541890852671279 │  0.5259528842775644 │  0.5299372673034668 │  254509.0 │       0.0 │          0.0 │\n",
       "├────────────┴─────────┴────────┴─────────────────────┴─────────────────────┴─────────────────────┴───────────┴───────────┴──────────────┤\n",
       "│ 10 rows                                                                                                                      9 columns │\n",
       "└────────────────────────────────────────────────────────────────────────────────────────────────────────────────────────────────────────┘"
      ]
     },
     "execution_count": 6,
     "metadata": {},
     "output_type": "execute_result"
    }
   ],
   "source": [
    "# visualizar tabela\n",
    "query = '''\n",
    "SELECT * FROM stock_data\n",
    "LIMIT 10\n",
    "'''\n",
    "conn_stock.sql( query )"
   ]
  },
  {
   "cell_type": "markdown",
   "metadata": {},
   "source": [
    "análise descritiva"
   ]
  },
  {
   "cell_type": "code",
   "execution_count": 7,
   "metadata": {},
   "outputs": [
    {
     "data": {
      "text/plain": [
       "┌───────────────────┐\n",
       "│ quantidade_linhas │\n",
       "│       int64       │\n",
       "├───────────────────┤\n",
       "│          34646258 │\n",
       "└───────────────────┘"
      ]
     },
     "execution_count": 7,
     "metadata": {},
     "output_type": "execute_result"
    }
   ],
   "source": [
    "# quantidade de linhas\n",
    "query = '''\n",
    "SELECT COUNT(*) AS quantidade_linhas\n",
    "FROM stock_data\n",
    "'''\n",
    "conn_stock.sql( query )"
   ]
  },
  {
   "cell_type": "code",
   "execution_count": 8,
   "metadata": {},
   "outputs": [
    {
     "data": {
      "text/plain": [
       "┌────────────────────┐\n",
       "│ quantidade_tickets │\n",
       "│       int64        │\n",
       "├────────────────────┤\n",
       "│               9315 │\n",
       "└────────────────────┘"
      ]
     },
     "execution_count": 8,
     "metadata": {},
     "output_type": "execute_result"
    }
   ],
   "source": [
    "# Contagem de ações distintas\n",
    "query = '''\n",
    "SELECT  COUNT(DISTINCT Ticker) AS quantidade_tickets\n",
    "FROM stock_data\n",
    "'''\n",
    "conn_stock.sql( query)"
   ]
  },
  {
   "cell_type": "code",
   "execution_count": 9,
   "metadata": {},
   "outputs": [
    {
     "name": "stdout",
     "output_type": "stream",
     "text": [
      "┌───────────────────┐\n",
      "│ primeiro_registro │\n",
      "│       date        │\n",
      "├───────────────────┤\n",
      "│ 1962-01-02        │\n",
      "└───────────────────┘\n",
      "\n",
      "┌─────────────────┐\n",
      "│ ultimo_registro │\n",
      "│      date       │\n",
      "├─────────────────┤\n",
      "│ 2024-11-04      │\n",
      "└─────────────────┘\n",
      "\n"
     ]
    }
   ],
   "source": [
    "#primeiro registro da base de dados\n",
    "query_primeiro = '''\n",
    "SELECT MIN(Date) AS primeiro_registro\n",
    "FROM stock_data\n",
    "'''\n",
    "\n",
    "#ultimo registro\n",
    "query_ultimo = '''\n",
    "SELECT MAX(Date) AS ultimo_registro\n",
    "FROM stock_data\n",
    "'''\n",
    "print(conn_stock.sql( query_primeiro ))\n",
    "print(conn_stock.sql( query_ultimo ))"
   ]
  },
  {
   "cell_type": "code",
   "execution_count": 10,
   "metadata": {},
   "outputs": [
    {
     "data": {
      "text/plain": [
       "┌─────────┬─────────────────────────┐\n",
       "│ Ticker  │ média_preço_de_abertura │\n",
       "│ varchar │         double          │\n",
       "├─────────┼─────────────────────────┤\n",
       "│ OTTR    │      14.782950563737534 │\n",
       "│ UFI     │       24.94066507042611 │\n",
       "│ BCE     │      14.863620216852917 │\n",
       "│ ALK     │       18.27544942692912 │\n",
       "│ CHE     │        83.0589628537036 │\n",
       "│ MCS     │        9.02190887100567 │\n",
       "│ NJR     │      12.318776128480746 │\n",
       "│ IMO     │      16.473297380857286 │\n",
       "│ PNW     │      22.568527685423447 │\n",
       "│ HST     │       8.022232580623175 │\n",
       "│  ·      │               ·         │\n",
       "│  ·      │               ·         │\n",
       "│  ·      │               ·         │\n",
       "│ SBXD-UN │      10.053905521739614 │\n",
       "│ RITR    │       5.363333323422601 │\n",
       "│ MBBC    │       8.902771055698395 │\n",
       "│ BSIIU   │        9.96791660785675 │\n",
       "│ SNYR    │       8.179375112056732 │\n",
       "│ SPHL    │       4.421749989191691 │\n",
       "│ TDTH    │      3.2892000019550323 │\n",
       "│ KHOB    │      0.8674468081048194 │\n",
       "│ SBXD    │      10.003000020980835 │\n",
       "│ CHKEZ   │       64.04000091552734 │\n",
       "├─────────┴─────────────────────────┤\n",
       "│ 9315 rows (20 shown)    2 columns │\n",
       "└───────────────────────────────────┘"
      ]
     },
     "execution_count": 10,
     "metadata": {},
     "output_type": "execute_result"
    }
   ],
   "source": [
    "#preço de abertura médio por ticket\n",
    "query = '''\n",
    "SELECT  \n",
    "Ticker,\n",
    "AVG (Open) AS média_preço_de_abertura\n",
    "FROM stock_data\n",
    "GROUP BY Ticker\n",
    "'''\n",
    "conn_stock.sql(query)"
   ]
  },
  {
   "cell_type": "code",
   "execution_count": 11,
   "metadata": {},
   "outputs": [
    {
     "data": {
      "text/plain": [
       "┌─────────┬────────────────────────┐\n",
       "│ Ticker  │         Close          │\n",
       "│ varchar │         double         │\n",
       "├─────────┼────────────────────────┤\n",
       "│ PTPIF   │ 1.5072897744279783e+28 │\n",
       "└─────────┴────────────────────────┘"
      ]
     },
     "execution_count": 11,
     "metadata": {},
     "output_type": "execute_result"
    }
   ],
   "source": [
    "#maior preço de fechamento já registrado\n",
    "query = '''\n",
    "SELECT\n",
    "Ticker, Close\n",
    "FROM \n",
    "stock_data\n",
    "WHERE Close = (\n",
    "    SELECT MAX(Close)\n",
    "    FROM stock_data)\n",
    "LIMIT 1\n",
    "'''\n",
    "conn_stock.sql( query )"
   ]
  },
  {
   "cell_type": "markdown",
   "metadata": {},
   "source": [
    "análise de performance"
   ]
  },
  {
   "cell_type": "code",
   "execution_count": 12,
   "metadata": {},
   "outputs": [
    {
     "data": {
      "text/plain": [
       "┌─────────┬────────────────────────┐\n",
       "│ Ticker  │  retorno_diário_médio  │\n",
       "│ varchar │         double         │\n",
       "├─────────┼────────────────────────┤\n",
       "│ ERIC    │     0.0613247656180622 │\n",
       "│ ETR     │   0.005506242669400805 │\n",
       "│ FUJIY   │    0.12022634423065129 │\n",
       "│ LNT     │     0.2774411340861314 │\n",
       "│ PH      │    0.29494062212509986 │\n",
       "│ CBSH    │   0.024801070559811005 │\n",
       "│ FDX     │    0.01279052252444778 │\n",
       "│ PHM     │      0.129586121940654 │\n",
       "│ NFG     │ -0.0002783340416960897 │\n",
       "│ TR      │    0.13878150783299573 │\n",
       "│ ·       │             ·          │\n",
       "│ ·       │             ·          │\n",
       "│ ·       │             ·          │\n",
       "│ HCWC    │    -0.1586944427755144 │\n",
       "│ ETHW    │   -0.09427028088956266 │\n",
       "│ JAGL    │                    0.0 │\n",
       "│ MANA    │   -0.21106024248054228 │\n",
       "│ IDXG    │    0.03255422431302358 │\n",
       "│ MGSD    │   -0.08112833835184574 │\n",
       "│ BLFBY   │   -0.06500005722045898 │\n",
       "│ GRAF-UN │ -0.0017699432373046876 │\n",
       "│ INR     │                    0.0 │\n",
       "│ SHCRW   │                    0.0 │\n",
       "├─────────┴────────────────────────┤\n",
       "│ 9315 rows (20 shown)   2 columns │\n",
       "└──────────────────────────────────┘"
      ]
     },
     "execution_count": 12,
     "metadata": {},
     "output_type": "execute_result"
    }
   ],
   "source": [
    "# retorno diário médio por ticker\n",
    "query = '''\n",
    "SELECT\n",
    "Ticker, \n",
    "AVG(Close - Open) AS retorno_diário_médio\n",
    "FROM stock_data\n",
    "GROUP BY Ticker\n",
    "'''\n",
    "conn_stock.sql( query )"
   ]
  },
  {
   "cell_type": "code",
   "execution_count": 13,
   "metadata": {},
   "outputs": [
    {
     "data": {
      "text/plain": [
       "┌─────────┬─────────────────┐\n",
       "│ Ticker  │  volume_total   │\n",
       "│ varchar │     double      │\n",
       "├─────────┼─────────────────┤\n",
       "│ NVDA    │ 3912343141792.0 │\n",
       "└─────────┴─────────────────┘"
      ]
     },
     "execution_count": 13,
     "metadata": {},
     "output_type": "execute_result"
    }
   ],
   "source": [
    "# Ticker de maior volume total\n",
    "query = '''\n",
    "SELECT \n",
    "Ticker, \n",
    "SUM(Volume) AS volume_total\n",
    "FROM stock_data\n",
    "GROUP BY Ticker\n",
    "ORDER BY volume_total DESC\n",
    "LIMIT 1\n",
    "'''\n",
    "conn_stock.sql( query )"
   ]
  },
  {
   "cell_type": "code",
   "execution_count": 14,
   "metadata": {},
   "outputs": [
    {
     "data": {
      "text/plain": [
       "┌─────────┬─────────────────┐\n",
       "│ Ticker  │ maior_dividendo │\n",
       "│ varchar │     double      │\n",
       "├─────────┼─────────────────┤\n",
       "│ OSCUF   │          4500.0 │\n",
       "│ NTTDF   │          3000.0 │\n",
       "│ TOPS    │          1000.0 │\n",
       "│ PSHG    │          1000.0 │\n",
       "│ NURO    │          1000.0 │\n",
       "│ VHI     │          1000.0 │\n",
       "│ SHIP    │          1000.0 │\n",
       "│ TOELF   │           562.0 │\n",
       "│ GYRO    │       509.55557 │\n",
       "│ GLBS    │           500.0 │\n",
       "│  ·      │              ·  │\n",
       "│  ·      │              ·  │\n",
       "│  ·      │              ·  │\n",
       "│ STSR    │             0.0 │\n",
       "│ AMTM    │             0.0 │\n",
       "│ SKK     │             0.0 │\n",
       "│ SOBO    │             0.0 │\n",
       "│ SEPN    │             0.0 │\n",
       "│ PMAX    │             0.0 │\n",
       "│ EBFI    │             0.0 │\n",
       "│ WSTRF   │             0.0 │\n",
       "│ TRLI    │             0.0 │\n",
       "│ TRIC    │             0.0 │\n",
       "├─────────┴─────────────────┤\n",
       "│   9315 rows (20 shown)    │\n",
       "└───────────────────────────┘"
      ]
     },
     "execution_count": 14,
     "metadata": {},
     "output_type": "execute_result"
    }
   ],
   "source": [
    "#maior dividendo pago por ticker\n",
    "query = '''\n",
    "SELECT \n",
    "Ticker, \n",
    "MAX(Dividends) AS maior_dividendo\n",
    "FROM stock_data\n",
    "GROUP BY Ticker\n",
    "ORDER BY maior_dividendo DESC\n",
    "'''\n",
    "conn_stock.sql( query )"
   ]
  },
  {
   "cell_type": "markdown",
   "metadata": {},
   "source": [
    "Análise temporal"
   ]
  },
  {
   "cell_type": "code",
   "execution_count": 15,
   "metadata": {},
   "outputs": [
    {
     "data": {
      "text/plain": [
       "┌─────────┬───────┬────────────────────┐\n",
       "│ Ticker  │  mês  │  média_fechamento  │\n",
       "│ varchar │ int64 │       double       │\n",
       "├─────────┼───────┼────────────────────┤\n",
       "│ AIG     │     1 │ 228.23548918503982 │\n",
       "│ GWW     │     1 │  99.16729627191907 │\n",
       "│ HWKN    │     1 │  9.463538922377694 │\n",
       "│ ABEO    │     1 │   519974.709779277 │\n",
       "│ ADX     │     1 │  4.672487198715042 │\n",
       "│ CIA     │     1 │  5.345876436249292 │\n",
       "│ EQT     │     1 │ 12.831086936931495 │\n",
       "│ FELE    │     1 │ 19.366807707927325 │\n",
       "│ ATRO    │     1 │  7.396897223084967 │\n",
       "│ UNP     │     1 │   44.5187125150816 │\n",
       "│  ·      │     · │           ·        │\n",
       "│  ·      │     · │           ·        │\n",
       "│  ·      │     · │           ·        │\n",
       "│ MRK     │     2 │  19.71883352131121 │\n",
       "│ HP      │     2 │ 18.195945392146495 │\n",
       "│ AVA     │     2 │ 12.353978851582946 │\n",
       "│ TER     │     2 │ 21.871247902633698 │\n",
       "│ CINF    │     2 │    29.052474413226 │\n",
       "│ INSI    │     2 │  7.760293339666032 │\n",
       "│ PHM     │     2 │ 15.395265645113602 │\n",
       "│ HST     │     2 │  8.241248509789248 │\n",
       "│ JHI     │     2 │  5.784234657742401 │\n",
       "│ MRO     │     2 │    7.4070235657603 │\n",
       "├─────────┴───────┴────────────────────┤\n",
       "│    ? rows (>9999 rows, 20 shown)     │\n",
       "└──────────────────────────────────────┘"
      ]
     },
     "execution_count": 15,
     "metadata": {},
     "output_type": "execute_result"
    }
   ],
   "source": [
    "#fechamento médio de Ticker por mês\n",
    "query = '''\n",
    "SELECT\n",
    "Ticker,\n",
    "MONTH(Date) AS mês, \n",
    "AVG(Close) AS média_fechamento\n",
    "FROM stock_data\n",
    "GROUP BY Ticker, mês\n",
    "ORDER BY mês ASC\n",
    "'''\n",
    "conn_stock.sql( query )"
   ]
  },
  {
   "cell_type": "code",
   "execution_count": 16,
   "metadata": {},
   "outputs": [
    {
     "data": {
      "text/plain": [
       "┌──────────────┬─────────┐\n",
       "│     Date     │ Ticker  │\n",
       "│     date     │ varchar │\n",
       "├──────────────┼─────────┤\n",
       "│ 1962-01-02   │ ED      │\n",
       "│ 1962-01-02   │ CVX     │\n",
       "│ 1962-01-02   │ GD      │\n",
       "│ 1962-01-02   │ BP      │\n",
       "│ 1962-01-02   │ MSI     │\n",
       "│ 1962-01-02   │ HON     │\n",
       "│ 1962-01-02   │ FL      │\n",
       "│ 1962-01-02   │ GT      │\n",
       "│ 1962-01-02   │ JNJ     │\n",
       "│ 1962-01-02   │ MMM     │\n",
       "│     ·        │  ·      │\n",
       "│     ·        │  ·      │\n",
       "│     ·        │  ·      │\n",
       "│ 1963-10-22   │ DTE     │\n",
       "│ 1963-10-22   │ ED      │\n",
       "│ 1963-10-22   │ IP      │\n",
       "│ 1963-10-22   │ RTX     │\n",
       "│ 1963-10-22   │ MRK     │\n",
       "│ 1963-10-22   │ AEP     │\n",
       "│ 1963-10-22   │ CVX     │\n",
       "│ 1963-10-22   │ PG      │\n",
       "│ 1963-10-22   │ FL      │\n",
       "│ 1963-10-22   │ GD      │\n",
       "├──────────────┴─────────┤\n",
       "│ ? rows       2 columns │\n",
       "└────────────────────────┘"
      ]
     },
     "execution_count": 16,
     "metadata": {},
     "output_type": "execute_result"
    }
   ],
   "source": [
    "#em quais dias os preços do fechamento ultrapassaram os preços de abertura em 5%\n",
    "query = '''\n",
    "SELECT \n",
    "Date,\n",
    "Ticker\n",
    "FROM stock_data\n",
    "WHERE (Close - Open)/Open > 0.05\n",
    "'''\n",
    "conn_stock.sql( query )"
   ]
  },
  {
   "cell_type": "code",
   "execution_count": 17,
   "metadata": {},
   "outputs": [
    {
     "data": {
      "text/plain": [
       "┌─────────┬───────────────┬────────────────────┐\n",
       "│ Ticker  │ dia_da_semana │    volume_médio    │\n",
       "│ varchar │    varchar    │       double       │\n",
       "├─────────┼───────────────┼────────────────────┤\n",
       "│ FUL     │ Wednesday     │ 269752.20808383235 │\n",
       "│ MMM     │ Wednesday     │   2388361.19081601 │\n",
       "│ APA     │ Wednesday     │ 2773221.9178723404 │\n",
       "│ VMI     │ Wednesday     │  99921.03293413174 │\n",
       "│ GATX    │ Wednesday     │ 217315.94311377246 │\n",
       "│ AEM     │ Wednesday     │  964285.4416167665 │\n",
       "│ TER     │ Wednesday     │ 1846107.0733532934 │\n",
       "│ WDFC    │ Wednesday     │ 51282.562946260805 │\n",
       "│ ASA     │ Wednesday     │ 205657.53820735234 │\n",
       "│ HPQ     │ Wednesday     │  15291588.14334471 │\n",
       "│  ·      │   ·           │               ·    │\n",
       "│  ·      │   ·           │               ·    │\n",
       "│  ·      │   ·           │               ·    │\n",
       "│ YXT     │ Monday        │            79140.0 │\n",
       "│ GRAF    │ Monday        │           171120.0 │\n",
       "│ TCBC    │ Monday        │             2470.0 │\n",
       "│ HONDU   │ Monday        │           282500.0 │\n",
       "│ GUER    │ Monday        │              580.0 │\n",
       "│ FFBW    │ Monday        │               75.0 │\n",
       "│ LPAA    │ Monday        │            13500.0 │\n",
       "│ TRIC    │ Tuesday       │              441.0 │\n",
       "│ MBAV    │ Monday        │  553583.3333333334 │\n",
       "│ VIVC    │ Monday        │                0.0 │\n",
       "├─────────┴───────────────┴────────────────────┤\n",
       "│ ? rows (>9999 rows, 20 shown)      3 columns │\n",
       "└──────────────────────────────────────────────┘"
      ]
     },
     "execution_count": 17,
     "metadata": {},
     "output_type": "execute_result"
    }
   ],
   "source": [
    "#volume médio negociado por dia da semana\n",
    "query = '''\n",
    "SELECT \n",
    "Ticker,\n",
    "strftime('%A', Date) AS dia_da_semana, \n",
    "AVG(Volume) AS volume_médio\n",
    "FROM\n",
    "stock_data\n",
    "GROUP BY Ticker, dia_da_semana\n",
    "'''\n",
    "conn_stock.sql( query )"
   ]
  },
  {
   "cell_type": "markdown",
   "metadata": {},
   "source": [
    "comparações"
   ]
  },
  {
   "cell_type": "code",
   "execution_count": 18,
   "metadata": {},
   "outputs": [
    {
     "data": {
      "text/plain": [
       "┌─────────┬────────────────────────┐\n",
       "│ Ticker  │    média_fechamento    │\n",
       "│ varchar │         double         │\n",
       "├─────────┼────────────────────────┤\n",
       "│ PTPIF   │ 1.0797134821793699e+27 │\n",
       "└─────────┴────────────────────────┘"
      ]
     },
     "execution_count": 18,
     "metadata": {},
     "output_type": "execute_result"
    }
   ],
   "source": [
    "#ticker com maior preço de fechamento médio durante o período\n",
    "query = '''\n",
    "SELECT\n",
    "Ticker,\n",
    "AVG(Close) AS média_fechamento\n",
    "FROM\n",
    "stock_data\n",
    "GROUP BY Ticker\n",
    "ORDER BY média_fechamento DESC\n",
    "LIMIT 1\n",
    "'''\n",
    "conn_stock.sql( query )"
   ]
  },
  {
   "cell_type": "code",
   "execution_count": 19,
   "metadata": {},
   "outputs": [
    {
     "data": {
      "text/plain": [
       "┌─────────┬────────────────────┐\n",
       "│ Ticker  │    volume_médio    │\n",
       "│ varchar │       double       │\n",
       "├─────────┼────────────────────┤\n",
       "│ PTPIF   │  1616.056456120738 │\n",
       "│ USLM    │ 31596.555269237604 │\n",
       "└─────────┴────────────────────┘"
      ]
     },
     "execution_count": 19,
     "metadata": {},
     "output_type": "execute_result"
    }
   ],
   "source": [
    "#comparar o volume médio entre dois ticker aleatórios\n",
    "query = '''\n",
    "SELECT\n",
    "Ticker,\n",
    "AVG(Volume) AS volume_médio\n",
    "FROM stock_data\n",
    "WHERE Ticker = 'PTPIF' OR Ticker = 'USLM'\n",
    "GROUP BY Ticker\n",
    "'''\n",
    "conn_stock.sql( query )"
   ]
  },
  {
   "cell_type": "code",
   "execution_count": null,
   "metadata": {},
   "outputs": [
    {
     "data": {
      "application/vnd.jupyter.widget-view+json": {
       "model_id": "0fee193572904624bb5a7cb6b8b5d59c",
       "version_major": 2,
       "version_minor": 0
      },
      "text/plain": [
       "FloatProgress(value=0.0, layout=Layout(width='auto'), style=ProgressStyle(bar_color='black'))"
      ]
     },
     "metadata": {},
     "output_type": "display_data"
    },
    {
     "data": {
      "text/plain": [
       "┌─────────┐\n",
       "│ Ticker  │\n",
       "│ varchar │\n",
       "├─────────┤\n",
       "│ DLPN    │\n",
       "└─────────┘"
      ]
     },
     "execution_count": 31,
     "metadata": {},
     "output_type": "execute_result"
    }
   ],
   "source": [
    "#ticker que teve o maior crescimento percentual de fechamento registrado de um dia para o outro\n",
    "query = '''\n",
    "SELECT Ticker\n",
    "From (\n",
    "SELECT\n",
    "Ticker,\n",
    "(Close - LAG(Close) OVER(ORDER BY Date))/\n",
    "LAG(Close) OVER(ORDER BY Date) AS diferença_percentual\n",
    "FROM stock_data\n",
    ")\n",
    "ORDER BY diferença_percentual DESC\n",
    "LIMIT 1\n",
    "'''\n",
    "conn_stock.sql( query )"
   ]
  }
 ],
 "metadata": {
  "kernelspec": {
   "display_name": "venv",
   "language": "python",
   "name": "python3"
  },
  "language_info": {
   "codemirror_mode": {
    "name": "ipython",
    "version": 3
   },
   "file_extension": ".py",
   "mimetype": "text/x-python",
   "name": "python",
   "nbconvert_exporter": "python",
   "pygments_lexer": "ipython3",
   "version": "3.12.1"
  }
 },
 "nbformat": 4,
 "nbformat_minor": 2
}
